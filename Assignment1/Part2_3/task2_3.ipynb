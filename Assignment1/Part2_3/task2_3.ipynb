{
 "cells": [
  {
   "cell_type": "code",
   "execution_count": 21,
   "metadata": {},
   "outputs": [],
   "source": [
    "from modules import *\n",
    "from mlp_numpy import MLP\n",
    "\n",
    "import numpy as np\n",
    "from sklearn.model_selection import train_test_split\n",
    "from sklearn.datasets import make_moons\n",
    "from sklearn import metrics\n",
    "import matplotlib.pyplot as plt\n",
    "import datetime\n",
    "\n",
    "from IPython.core.interactiveshell import InteractiveShell\n",
    "InteractiveShell.ast_node_interactivity = \"all\"\n",
    "\n",
    "SEED = 27"
   ]
  },
  {
   "cell_type": "code",
   "execution_count": 22,
   "metadata": {},
   "outputs": [],
   "source": [
    "NUM_POINTS = 2000\n",
    "N_CLASSES = 2\n",
    "N_HIDDEN = [5, 10]\n",
    "\n",
    "MAX_EPOCHS = 200\n",
    "LR = 1e-2\n",
    "BATCH_SIZE = 8\n",
    "\n",
    "VERBOSE = 10"
   ]
  },
  {
   "cell_type": "code",
   "execution_count": 23,
   "metadata": {},
   "outputs": [
    {
     "data": {
      "image/png": "[encoded data removed]",
      "text/plain": [
       "<Figure size 432x288 with 1 Axes>"
      ]
     },
     "metadata": {
      "needs_background": "light"
     },
     "output_type": "display_data"
    }
   ],
   "source": [
    "x, y = make_moons(NUM_POINTS, random_state=SEED)\n",
    "plt.scatter(x[:, 0], x[:, 1], c=y, s=8, cmap=\"plasma\")\n",
    "plt.show()\n",
    "\n",
    "y = np.eye(N_CLASSES)[y]\n",
    "x_train, x_test, y_train, y_test = train_test_split(x,\n",
    "                                                    y,\n",
    "                                                    test_size=0.2,\n",
    "                                                    random_state=SEED);"
   ]
  },
  {
   "cell_type": "code",
   "execution_count": 24,
   "metadata": {},
   "outputs": [
    {
     "name": "stdout",
     "output_type": "stream",
     "text": [
      "Train set shape (1600, 2)\n",
      "Num of batches = 200\n",
      "2022-02-28 20:43:48.757063 Epoch 10 \tTrain Loss = 0.08875 Train acc = 0.969  Test Loss = 0.08415 Test acc = 0.975 \n",
      "2022-02-28 20:43:49.746772 Epoch 20 \tTrain Loss = 0.04417 Train acc = 0.998  Test Loss = 0.04179 Test acc = 0.998 \n",
      "2022-02-28 20:43:50.657333 Epoch 30 \tTrain Loss = 0.02432 Train acc = 1.000  Test Loss = 0.02320 Test acc = 1.000 \n",
      "2022-02-28 20:43:51.563931 Epoch 40 \tTrain Loss = 0.01412 Train acc = 1.000  Test Loss = 0.01416 Test acc = 1.000 \n",
      "2022-02-28 20:43:52.466530 Epoch 50 \tTrain Loss = 0.00805 Train acc = 1.000  Test Loss = 0.00852 Test acc = 1.000 \n",
      "2022-02-28 20:43:53.340197 Epoch 60 \tTrain Loss = 0.00541 Train acc = 1.000  Test Loss = 0.00582 Test acc = 1.000 \n",
      "2022-02-28 20:43:54.231829 Epoch 70 \tTrain Loss = 0.00400 Train acc = 1.000  Test Loss = 0.00433 Test acc = 1.000 \n",
      "2022-02-28 20:43:55.135270 Epoch 80 \tTrain Loss = 0.00315 Train acc = 1.000  Test Loss = 0.00343 Test acc = 1.000 \n",
      "2022-02-28 20:43:56.012961 Epoch 90 \tTrain Loss = 0.00258 Train acc = 1.000  Test Loss = 0.00281 Test acc = 1.000 \n",
      "2022-02-28 20:43:56.893577 Epoch 100 \tTrain Loss = 0.00217 Train acc = 1.000  Test Loss = 0.00235 Test acc = 1.000 \n",
      "2022-02-28 20:43:57.800137 Epoch 110 \tTrain Loss = 0.00187 Train acc = 1.000  Test Loss = 0.00201 Test acc = 1.000 \n",
      "2022-02-28 20:43:58.676929 Epoch 120 \tTrain Loss = 0.00163 Train acc = 1.000  Test Loss = 0.00176 Test acc = 1.000 \n",
      "2022-02-28 20:43:59.557306 Epoch 130 \tTrain Loss = 0.00144 Train acc = 1.000  Test Loss = 0.00155 Test acc = 1.000 \n",
      "2022-02-28 20:44:00.455923 Epoch 140 \tTrain Loss = 0.00129 Train acc = 1.000  Test Loss = 0.00139 Test acc = 1.000 \n",
      "2022-02-28 20:44:01.327623 Epoch 150 \tTrain Loss = 0.00117 Train acc = 1.000  Test Loss = 0.00125 Test acc = 1.000 \n",
      "2022-02-28 20:44:02.200848 Epoch 160 \tTrain Loss = 0.00106 Train acc = 1.000  Test Loss = 0.00114 Test acc = 1.000 \n",
      "2022-02-28 20:44:03.116907 Epoch 170 \tTrain Loss = 0.00097 Train acc = 1.000  Test Loss = 0.00104 Test acc = 1.000 \n",
      "2022-02-28 20:44:04.043581 Epoch 180 \tTrain Loss = 0.00090 Train acc = 1.000  Test Loss = 0.00096 Test acc = 1.000 \n",
      "2022-02-28 20:44:04.991390 Epoch 190 \tTrain Loss = 0.00083 Train acc = 1.000  Test Loss = 0.00089 Test acc = 1.000 \n",
      "2022-02-28 20:44:05.964675 Epoch 200 \tTrain Loss = 0.00077 Train acc = 1.000  Test Loss = 0.00083 Test acc = 1.000 \n"
     ]
    }
   ],
   "source": [
    "mlp = MLP(x.shape[1], N_HIDDEN, N_CLASSES)\n",
    "loss = CrossEntropy()\n",
    "\n",
    "np.random.seed(SEED)\n",
    "\n",
    "print(\"Train set shape\", x_train.shape)\n",
    "num_batches=len(x_train)//BATCH_SIZE\n",
    "print(\"Num of batches =\", num_batches)\n",
    "\n",
    "for epoch in range(MAX_EPOCHS):\n",
    "    random_index=np.random.choice(len(x_train), size=len(x_train), replace=False)\n",
    "    for i in range(num_batches):\n",
    "        batch_index=random_index[i*BATCH_SIZE:(i+1)*BATCH_SIZE]\n",
    "        x_batch=x_train[batch_index]\n",
    "        y_batch=y_train[batch_index]\n",
    "        \n",
    "        out_batch=mlp.forward(x_batch)\n",
    "        loss_grad=loss.backward(out_batch, y_batch)\n",
    "        trash=mlp.backward(loss_grad)\n",
    "        \n",
    "        for layer in mlp.layers:\n",
    "            n=0\n",
    "            if isinstance(layer, Linear):\n",
    "                layer.params[\"weight\"]-=LR*layer.grads[\"weight\"]\n",
    "                layer.params[\"bias\"]-=LR*layer.grads[\"bias\"]\n",
    "    \n",
    "    out_train=mlp.forward(x_train)\n",
    "    train_loss=loss.forward(out_train, y_train)\n",
    "    train_acc=metrics.accuracy_score(np.argmax(out_train, axis=1), np.argmax(y_train, axis=1))\n",
    "    \n",
    "    out_test=mlp.forward(x_test)\n",
    "    test_loss=loss.forward(out_test, y_test)\n",
    "    test_acc=metrics.accuracy_score(np.argmax(out_test, axis=1), np.argmax(y_test, axis=1))\n",
    "    \n",
    "    if (epoch+1)%VERBOSE==0:\n",
    "        print(datetime.datetime.now(), \"Epoch\", epoch+1, \"\\tTrain Loss = %.5f\" % train_loss, \"Train acc = %.3f \" % train_acc, \"Test Loss = %.5f\" % test_loss, \"Test acc = %.3f \" % test_acc)"
   ]
  },
  {
   "cell_type": "code",
   "execution_count": 25,
   "metadata": {},
   "outputs": [
    {
     "data": {
      "text/plain": [
       "array([2, 1], dtype=int64)"
      ]
     },
     "execution_count": 25,
     "metadata": {},
     "output_type": "execute_result"
    }
   ],
   "source": [
    "np.argmax([[0.2, 0.3, 0.5], [0.2, 0.7, 0.1]], axis=1)"
   ]
  }
 ],
 "metadata": {
  "interpreter": {
   "hash": "ea68df19c4d37e38a9eb7909edccefbc9be4cef992fc8497053f8457aa8ede20"
  },
  "kernelspec": {
   "display_name": "Python 3.8.12 ('py38')",
   "language": "python",
   "name": "python3"
  },
  "language_info": {
   "codemirror_mode": {
    "name": "ipython",
    "version": 3
   },
   "file_extension": ".py",
   "mimetype": "text/x-python",
   "name": "python",
   "nbconvert_exporter": "python",
   "pygments_lexer": "ipython3",
   "version": "3.8.12"
  },
  "orig_nbformat": 4
 },
 "nbformat": 4,
 "nbformat_minor": 2
}
