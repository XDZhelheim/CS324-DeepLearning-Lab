{
 "cells": [
  {
   "cell_type": "markdown",
   "metadata": {},
   "source": [
    "# Part 2: GAN\n",
    "\n",
    "11812804 董正"
   ]
  },
  {
   "cell_type": "markdown",
   "metadata": {},
   "source": [
    "## Task 1: Implementation\n",
    "\n",
    "This is an implementation for [DCGAN](https://arxiv.org/abs/1511.06434).\n",
    "\n",
    "![](https://pytorch.org/tutorials/_images/dcgan_generator.png)\n",
    "\n",
    "References:\n",
    "- PyTorch Tutorial: https://pytorch.org/tutorials/beginner/dcgan_faces_tutorial.html\n",
    "- TensorFlow Tutorial: https://www.tensorflow.org/tutorials/generative/dcgan?hl=zh-cn"
   ]
  },
  {
   "cell_type": "markdown",
   "metadata": {},
   "source": [
    "### Generator\n",
    "\n",
    "Five transpose convolution layers to generate a fake image from noises."
   ]
  },
  {
   "cell_type": "code",
   "execution_count": 10,
   "metadata": {},
   "outputs": [
    {
     "data": {
      "text/plain": [
       "==========================================================================================\n",
       "Layer (type:depth-idx)                   Output Shape              Param #\n",
       "==========================================================================================\n",
       "Generator                                --                        --\n",
       "├─Sequential: 1-1                        [1, 1, 64, 64]            --\n",
       "│    └─ConvTranspose2d: 2-1              [1, 1024, 4, 4]           1,638,400\n",
       "│    └─BatchNorm2d: 2-2                  [1, 1024, 4, 4]           2,048\n",
       "│    └─ReLU: 2-3                         [1, 1024, 4, 4]           --\n",
       "│    └─ConvTranspose2d: 2-4              [1, 512, 8, 8]            8,388,608\n",
       "│    └─BatchNorm2d: 2-5                  [1, 512, 8, 8]            1,024\n",
       "│    └─ReLU: 2-6                         [1, 512, 8, 8]            --\n",
       "│    └─ConvTranspose2d: 2-7              [1, 256, 16, 16]          2,097,152\n",
       "│    └─BatchNorm2d: 2-8                  [1, 256, 16, 16]          512\n",
       "│    └─ReLU: 2-9                         [1, 256, 16, 16]          --\n",
       "│    └─ConvTranspose2d: 2-10             [1, 128, 32, 32]          524,288\n",
       "│    └─BatchNorm2d: 2-11                 [1, 128, 32, 32]          256\n",
       "│    └─ReLU: 2-12                        [1, 128, 32, 32]          --\n",
       "│    └─ConvTranspose2d: 2-13             [1, 1, 64, 64]            2,048\n",
       "│    └─Tanh: 2-14                        [1, 1, 64, 64]            --\n",
       "==========================================================================================\n",
       "Total params: 12,654,336\n",
       "Trainable params: 12,654,336\n",
       "Non-trainable params: 0\n",
       "Total mult-adds (G): 1.65\n",
       "==========================================================================================\n",
       "Input size (MB): 0.00\n",
       "Forward/backward pass size (MB): 3.96\n",
       "Params size (MB): 50.62\n",
       "Estimated Total Size (MB): 54.58\n",
       "=========================================================================================="
      ]
     },
     "execution_count": 10,
     "metadata": {},
     "output_type": "execute_result"
    }
   ],
   "source": [
    "from DCGAN import Generator, Discriminator\n",
    "from torchinfo import summary\n",
    "\n",
    "generator = Generator(noise_dim=100, hidden_channels_base=128, output_channels=1)\n",
    "\n",
    "summary(generator, input_size=(1, 100, 1, 1))"
   ]
  },
  {
   "cell_type": "markdown",
   "metadata": {},
   "source": [
    "### Discriminator\n",
    "\n",
    "A CNN for image binary classification."
   ]
  },
  {
   "cell_type": "code",
   "execution_count": 11,
   "metadata": {},
   "outputs": [
    {
     "data": {
      "text/plain": [
       "==========================================================================================\n",
       "Layer (type:depth-idx)                   Output Shape              Param #\n",
       "==========================================================================================\n",
       "Discriminator                            --                        --\n",
       "├─Sequential: 1-1                        [1, 1, 1, 1]              --\n",
       "│    └─Conv2d: 2-1                       [1, 128, 32, 32]          2,048\n",
       "│    └─LeakyReLU: 2-2                    [1, 128, 32, 32]          --\n",
       "│    └─Conv2d: 2-3                       [1, 256, 16, 16]          524,288\n",
       "│    └─BatchNorm2d: 2-4                  [1, 256, 16, 16]          512\n",
       "│    └─LeakyReLU: 2-5                    [1, 256, 16, 16]          --\n",
       "│    └─Conv2d: 2-6                       [1, 512, 8, 8]            2,097,152\n",
       "│    └─BatchNorm2d: 2-7                  [1, 512, 8, 8]            1,024\n",
       "│    └─LeakyReLU: 2-8                    [1, 512, 8, 8]            --\n",
       "│    └─Conv2d: 2-9                       [1, 1024, 4, 4]           8,388,608\n",
       "│    └─BatchNorm2d: 2-10                 [1, 1024, 4, 4]           2,048\n",
       "│    └─LeakyReLU: 2-11                   [1, 1024, 4, 4]           --\n",
       "│    └─Conv2d: 2-12                      [1, 1, 1, 1]              16,384\n",
       "│    └─Sigmoid: 2-13                     [1, 1, 1, 1]              --\n",
       "==========================================================================================\n",
       "Total params: 11,032,064\n",
       "Trainable params: 11,032,064\n",
       "Non-trainable params: 0\n",
       "Total mult-adds (M): 404.77\n",
       "==========================================================================================\n",
       "Input size (MB): 0.02\n",
       "Forward/backward pass size (MB): 2.88\n",
       "Params size (MB): 44.13\n",
       "Estimated Total Size (MB): 47.03\n",
       "=========================================================================================="
      ]
     },
     "execution_count": 11,
     "metadata": {},
     "output_type": "execute_result"
    }
   ],
   "source": [
    "discriminator = Discriminator(input_channels=1, hidden_channels_base=128)\n",
    "\n",
    "summary(discriminator, (1, 1, 64, 64))"
   ]
  },
  {
   "cell_type": "markdown",
   "metadata": {},
   "source": [
    "## Task 2: Train\n",
    "\n",
    "- Discriminator\n",
    "\n",
    "    DLoss = Loss of predicting real images (label = 1) + Loss of predicting fake images (label = 0)\n",
    "    1. Predict real images and calculate loss.\n",
    "    \n",
    "        $DLoss_{real}=\\mathrm{BCE}(\\hat y_r, 1)$\n",
    "\n",
    "    2. Generate random noise that satisfies $N(0, 1)$.\n",
    "    3. Generate fake images by generator network.\n",
    "    4. Predict fake images and calculate loss.\n",
    "\n",
    "        $DLoss_{fake}=\\mathrm{BCE}(\\hat y_f, 0)$\n",
    "\n",
    "    5. Sum the losses.\n",
    "\n",
    "        $DLoss=DLoss_{real}+DLoss_{fake}$\n",
    "\n",
    "    6. Update parameters.\n",
    "\n",
    "- Generator\n",
    "\n",
    "    1. GLoss = Loss of the cases that discriminator cannot recognize fake images\n",
    "\n",
    "        $GLoss=\\mathrm{BCE}(\\hat y_f, 1)$\n",
    "\n",
    "    2. Update parameters.\n",
    "\n",
    "**Parameter Settings:**\n",
    "\n",
    "For the network, use the same number of filters as DCGAN, which is already shown in the above `summary(model)` command.\n",
    "\n",
    "- Latent Dim (Noise Dim): 100\n",
    "- Learning Rate: 0.0002\n",
    "- Batch Size: 128\n",
    "- Max Epochs: 300\n",
    "- Save Images Interval: 10\n",
    "\n",
    "Training DCGAN is very time-costing, making it hard to show the process in this notebook. Therefore, I trained it on a server and recorded the logs."
   ]
  },
  {
   "cell_type": "code",
   "execution_count": 13,
   "metadata": {},
   "outputs": [
    {
     "name": "stdout",
     "output_type": "stream",
     "text": [
      "2022-05-22 00:39:00.971691 Epoch 10 \tGenerator Loss = 3.96536 Discriminator Loss = 0.28411 \n",
      "2022-05-22 00:57:44.314341 Epoch 20 \tGenerator Loss = 4.17754 Discriminator Loss = 0.34839 \n",
      "2022-05-22 01:17:10.945575 Epoch 30 \tGenerator Loss = 4.72768 Discriminator Loss = 0.23825 \n",
      "2022-05-22 01:35:25.714158 Epoch 40 \tGenerator Loss = 5.16002 Discriminator Loss = 0.23812 \n",
      "2022-05-22 01:53:39.703358 Epoch 50 \tGenerator Loss = 9.44220 Discriminator Loss = 0.00161 \n",
      "2022-05-22 02:11:51.385317 Epoch 60 \tGenerator Loss = 52.42364 Discriminator Loss = 0.00000 \n",
      "2022-05-22 02:29:59.775999 Epoch 70 \tGenerator Loss = 51.77450 Discriminator Loss = 0.00000 \n",
      "2022-05-22 02:48:06.576259 Epoch 80 \tGenerator Loss = 51.07788 Discriminator Loss = 0.00000 \n",
      "2022-05-22 03:06:11.742733 Epoch 90 \tGenerator Loss = 49.31922 Discriminator Loss = 0.00000 \n",
      "2022-05-22 03:24:25.324251 Epoch 100 \tGenerator Loss = 8.31063 Discriminator Loss = 0.07617 \n",
      "2022-05-22 03:42:39.566124 Epoch 110 \tGenerator Loss = 8.41514 Discriminator Loss = 0.00610 \n",
      "2022-05-22 04:00:54.885232 Epoch 120 \tGenerator Loss = 7.83186 Discriminator Loss = 0.00581 \n",
      "2022-05-22 04:19:06.891173 Epoch 130 \tGenerator Loss = 7.73626 Discriminator Loss = 0.02312 \n",
      "2022-05-22 04:37:19.578181 Epoch 140 \tGenerator Loss = 9.12192 Discriminator Loss = 0.06077 \n",
      "2022-05-22 04:55:32.011143 Epoch 150 \tGenerator Loss = 8.07032 Discriminator Loss = 0.01452 \n",
      "2022-05-22 05:13:43.802291 Epoch 160 \tGenerator Loss = 7.34023 Discriminator Loss = 0.00814 \n",
      "2022-05-22 05:31:55.691054 Epoch 170 \tGenerator Loss = 8.29252 Discriminator Loss = 0.00718 \n",
      "2022-05-22 05:50:07.392863 Epoch 180 \tGenerator Loss = 7.88775 Discriminator Loss = 0.00472 \n",
      "2022-05-22 06:08:18.727149 Epoch 190 \tGenerator Loss = 8.13219 Discriminator Loss = 0.00830 \n",
      "2022-05-22 06:26:29.891532 Epoch 200 \tGenerator Loss = 8.04284 Discriminator Loss = 0.00576 \n",
      "2022-05-22 06:44:40.914148 Epoch 210 \tGenerator Loss = 9.57497 Discriminator Loss = 0.16743 \n",
      "2022-05-22 07:02:51.750765 Epoch 220 \tGenerator Loss = 7.86755 Discriminator Loss = 0.00285 \n",
      "2022-05-22 07:21:02.323129 Epoch 230 \tGenerator Loss = 7.93817 Discriminator Loss = 0.00307 \n",
      "2022-05-22 07:39:12.980711 Epoch 240 \tGenerator Loss = 8.92511 Discriminator Loss = 0.03318 \n",
      "2022-05-22 07:57:23.858755 Epoch 250 \tGenerator Loss = 8.10712 Discriminator Loss = 0.00325 \n",
      "2022-05-22 08:15:34.124546 Epoch 260 \tGenerator Loss = 8.68809 Discriminator Loss = 0.00242 \n",
      "2022-05-22 08:33:44.723927 Epoch 270 \tGenerator Loss = 7.84330 Discriminator Loss = 0.00322 \n",
      "2022-05-22 08:51:55.521458 Epoch 280 \tGenerator Loss = 7.77858 Discriminator Loss = 0.00543 \n",
      "2022-05-22 09:10:06.776838 Epoch 290 \tGenerator Loss = 7.32380 Discriminator Loss = 0.00548 \n",
      "2022-05-22 09:28:17.800607 Epoch 300 \tGenerator Loss = 9.08245 Discriminator Loss = 0.00139 \n"
     ]
    }
   ],
   "source": [
    "! head -n 30 train.log"
   ]
  },
  {
   "cell_type": "code",
   "execution_count": 33,
   "metadata": {},
   "outputs": [
    {
     "data": {
      "image/png": "[encoded data removed]",
      "text/plain": [
       "<Figure size 432x288 with 30 Axes>"
      ]
     },
     "metadata": {
      "needs_background": "light"
     },
     "output_type": "display_data"
    }
   ],
   "source": [
    "import matplotlib.pyplot as plt\n",
    "\n",
    "fig, axs=plt.subplots(6, 5)\n",
    "# plt.subplots_adjust(left=None, bottom=None, right=None, top=None, wspace=None, hspace=None)\n",
    "fig.tight_layout()\n",
    "for i in range(1, 31):\n",
    "    axs[(i-1)//5][(i-1)%5].set_axis_off()\n",
    "    img=plt.imread(f\"./gen_images/{i*10}.png\")\n",
    "    axs[(i-1)//5][(i-1)%5].imshow(img)\n",
    "plt.show()"
   ]
  }
 ],
 "metadata": {
  "interpreter": {
   "hash": "fd0cbeeebddf018e2677e71121273aea86219f8f073bd68af8cb0775aeeb71be"
  },
  "kernelspec": {
   "display_name": "Python 3.8.13 ('torch1.11')",
   "language": "python",
   "name": "python3"
  },
  "language_info": {
   "codemirror_mode": {
    "name": "ipython",
    "version": 3
   },
   "file_extension": ".py",
   "mimetype": "text/x-python",
   "name": "python",
   "nbconvert_exporter": "python",
   "pygments_lexer": "ipython3",
   "version": "3.8.13"
  },
  "orig_nbformat": 4
 },
 "nbformat": 4,
 "nbformat_minor": 2
}
